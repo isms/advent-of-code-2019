{
 "cells": [
  {
   "cell_type": "code",
   "execution_count": 1,
   "metadata": {},
   "outputs": [
    {
     "name": "stderr",
     "output_type": "stream",
     "text": [
      "100%|██████████| 100/100 [00:00<00:00, 1986.63it/s]\n",
      "100%|██████████| 100/100 [00:00<00:00, 3463.79it/s]\n",
      "100%|██████████| 100/100 [00:00<00:00, 3348.59it/s]\n"
     ]
    }
   ],
   "source": [
    "import numpy as np\n",
    "from tqdm import tqdm\n",
    "import itertools as it\n",
    "from pathlib import Path\n",
    "\n",
    "INPUT = Path(\"day16/input.txt\").read_text().strip()\n",
    "\n",
    "def pattern(repeat):\n",
    "    repeats = [[x] * repeat for x in (0, 1, 0, -1)]\n",
    "    gen = it.cycle(it.chain(*repeats))\n",
    "    next(gen)  # skip 1\n",
    "    return gen\n",
    "\n",
    "def pattern_matrix(n):\n",
    "    return np.array([list(it.islice(pattern(i+1), n)) for i in range(n)])\n",
    "\n",
    "def phase_at(x, n):\n",
    "    x = np.array(list(x), dtype=np.int).reshape(1, -1)\n",
    "    p = pattern_matrix(x.shape[1])\n",
    "    for _ in tqdm(range(n)):\n",
    "        r = np.abs((x * p).sum(axis=1))\n",
    "        x = r - (r // 10) * 10\n",
    "    return \"\".join(x.astype(str))\n",
    "\n",
    "def phase_at(x, n):\n",
    "    x = np.array(list(x), dtype=np.int)\n",
    "    for _ in tqdm(range(n)):\n",
    "        r = np.abs([\n",
    "            sum(a * b for a, b in it.islice(zip(x, pattern(i+1)), i, None))\n",
    "            for i in range(len(x))\n",
    "        ])\n",
    "        x = r - (r // 10) * 10\n",
    "    return \"\".join(x.astype(str))\n",
    "\n",
    "assert phase_at(\"80871224585914546619083218645595\", 100)[:8] == \"24176176\"\n",
    "assert phase_at(\"19617804207202209144916044189917\", 100)[:8] == \"73745418\"\n",
    "assert phase_at(\"69317163492948606335995924319873\", 100)[:8] == \"52432133\""
   ]
  },
  {
   "cell_type": "code",
   "execution_count": 2,
   "metadata": {},
   "outputs": [
    {
     "name": "stderr",
     "output_type": "stream",
     "text": [
      "100%|██████████| 100/100 [00:00<00:00, 1965.94it/s]\n"
     ]
    },
    {
     "data": {
      "text/plain": [
       "'24176176'"
      ]
     },
     "execution_count": 2,
     "metadata": {},
     "output_type": "execute_result"
    }
   ],
   "source": [
    "phase_at(\"80871224585914546619083218645595\", 100)[:8]"
   ]
  },
  {
   "cell_type": "markdown",
   "metadata": {},
   "source": [
    "### Part 1"
   ]
  },
  {
   "cell_type": "code",
   "execution_count": 3,
   "metadata": {},
   "outputs": [
    {
     "name": "stderr",
     "output_type": "stream",
     "text": [
      "100%|██████████| 100/100 [00:07<00:00, 13.41it/s]\n"
     ]
    },
    {
     "data": {
      "text/plain": [
       "'15841929'"
      ]
     },
     "execution_count": 3,
     "metadata": {},
     "output_type": "execute_result"
    }
   ],
   "source": [
    "phase_at(INPUT, 100)[:8]"
   ]
  },
  {
   "cell_type": "markdown",
   "metadata": {},
   "source": [
    "### Part 2"
   ]
  },
  {
   "cell_type": "code",
   "execution_count": 4,
   "metadata": {},
   "outputs": [],
   "source": [
    "blob = INPUT * 10_000"
   ]
  },
  {
   "cell_type": "code",
   "execution_count": 5,
   "metadata": {},
   "outputs": [
    {
     "name": "stderr",
     "output_type": "stream",
     "text": [
      "  0%|          | 0/100 [00:00<?, ?it/s]"
     ]
    },
    {
     "ename": "KeyboardInterrupt",
     "evalue": "",
     "output_type": "error",
     "traceback": [
      "\u001b[0;31m---------------------------------------------------------------------------\u001b[0m",
      "\u001b[0;31mKeyboardInterrupt\u001b[0m                         Traceback (most recent call last)",
      "\u001b[0;32m<timed exec>\u001b[0m in \u001b[0;36m<module>\u001b[0;34m\u001b[0m\n",
      "\u001b[0;32m<ipython-input-1-818257051d92>\u001b[0m in \u001b[0;36mphase_at\u001b[0;34m(x, n)\u001b[0m\n\u001b[1;32m     28\u001b[0m         r = np.abs([\n\u001b[1;32m     29\u001b[0m             \u001b[0msum\u001b[0m\u001b[0;34m(\u001b[0m\u001b[0ma\u001b[0m \u001b[0;34m*\u001b[0m \u001b[0mb\u001b[0m \u001b[0;32mfor\u001b[0m \u001b[0ma\u001b[0m\u001b[0;34m,\u001b[0m \u001b[0mb\u001b[0m \u001b[0;32min\u001b[0m \u001b[0mit\u001b[0m\u001b[0;34m.\u001b[0m\u001b[0mislice\u001b[0m\u001b[0;34m(\u001b[0m\u001b[0mzip\u001b[0m\u001b[0;34m(\u001b[0m\u001b[0mx\u001b[0m\u001b[0;34m,\u001b[0m \u001b[0mpattern\u001b[0m\u001b[0;34m(\u001b[0m\u001b[0mi\u001b[0m\u001b[0;34m+\u001b[0m\u001b[0;36m1\u001b[0m\u001b[0;34m)\u001b[0m\u001b[0;34m)\u001b[0m\u001b[0;34m,\u001b[0m \u001b[0mi\u001b[0m\u001b[0;34m,\u001b[0m \u001b[0;32mNone\u001b[0m\u001b[0;34m)\u001b[0m\u001b[0;34m)\u001b[0m\u001b[0;34m\u001b[0m\u001b[0;34m\u001b[0m\u001b[0m\n\u001b[0;32m---> 30\u001b[0;31m             \u001b[0;32mfor\u001b[0m \u001b[0mi\u001b[0m \u001b[0;32min\u001b[0m \u001b[0mrange\u001b[0m\u001b[0;34m(\u001b[0m\u001b[0mlen\u001b[0m\u001b[0;34m(\u001b[0m\u001b[0mx\u001b[0m\u001b[0;34m)\u001b[0m\u001b[0;34m)\u001b[0m\u001b[0;34m\u001b[0m\u001b[0;34m\u001b[0m\u001b[0m\n\u001b[0m\u001b[1;32m     31\u001b[0m         ])\n\u001b[1;32m     32\u001b[0m         \u001b[0mx\u001b[0m \u001b[0;34m=\u001b[0m \u001b[0mr\u001b[0m \u001b[0;34m-\u001b[0m \u001b[0;34m(\u001b[0m\u001b[0mr\u001b[0m \u001b[0;34m//\u001b[0m \u001b[0;36m10\u001b[0m\u001b[0;34m)\u001b[0m \u001b[0;34m*\u001b[0m \u001b[0;36m10\u001b[0m\u001b[0;34m\u001b[0m\u001b[0;34m\u001b[0m\u001b[0m\n",
      "\u001b[0;32m<ipython-input-1-818257051d92>\u001b[0m in \u001b[0;36m<listcomp>\u001b[0;34m(.0)\u001b[0m\n\u001b[1;32m     28\u001b[0m         r = np.abs([\n\u001b[1;32m     29\u001b[0m             \u001b[0msum\u001b[0m\u001b[0;34m(\u001b[0m\u001b[0ma\u001b[0m \u001b[0;34m*\u001b[0m \u001b[0mb\u001b[0m \u001b[0;32mfor\u001b[0m \u001b[0ma\u001b[0m\u001b[0;34m,\u001b[0m \u001b[0mb\u001b[0m \u001b[0;32min\u001b[0m \u001b[0mit\u001b[0m\u001b[0;34m.\u001b[0m\u001b[0mislice\u001b[0m\u001b[0;34m(\u001b[0m\u001b[0mzip\u001b[0m\u001b[0;34m(\u001b[0m\u001b[0mx\u001b[0m\u001b[0;34m,\u001b[0m \u001b[0mpattern\u001b[0m\u001b[0;34m(\u001b[0m\u001b[0mi\u001b[0m\u001b[0;34m+\u001b[0m\u001b[0;36m1\u001b[0m\u001b[0;34m)\u001b[0m\u001b[0;34m)\u001b[0m\u001b[0;34m,\u001b[0m \u001b[0mi\u001b[0m\u001b[0;34m,\u001b[0m \u001b[0;32mNone\u001b[0m\u001b[0;34m)\u001b[0m\u001b[0;34m)\u001b[0m\u001b[0;34m\u001b[0m\u001b[0;34m\u001b[0m\u001b[0m\n\u001b[0;32m---> 30\u001b[0;31m             \u001b[0;32mfor\u001b[0m \u001b[0mi\u001b[0m \u001b[0;32min\u001b[0m \u001b[0mrange\u001b[0m\u001b[0;34m(\u001b[0m\u001b[0mlen\u001b[0m\u001b[0;34m(\u001b[0m\u001b[0mx\u001b[0m\u001b[0;34m)\u001b[0m\u001b[0;34m)\u001b[0m\u001b[0;34m\u001b[0m\u001b[0;34m\u001b[0m\u001b[0m\n\u001b[0m\u001b[1;32m     31\u001b[0m         ])\n\u001b[1;32m     32\u001b[0m         \u001b[0mx\u001b[0m \u001b[0;34m=\u001b[0m \u001b[0mr\u001b[0m \u001b[0;34m-\u001b[0m \u001b[0;34m(\u001b[0m\u001b[0mr\u001b[0m \u001b[0;34m//\u001b[0m \u001b[0;36m10\u001b[0m\u001b[0;34m)\u001b[0m \u001b[0;34m*\u001b[0m \u001b[0;36m10\u001b[0m\u001b[0;34m\u001b[0m\u001b[0;34m\u001b[0m\u001b[0m\n",
      "\u001b[0;32m<ipython-input-1-818257051d92>\u001b[0m in \u001b[0;36m<genexpr>\u001b[0;34m(.0)\u001b[0m\n\u001b[1;32m     27\u001b[0m     \u001b[0;32mfor\u001b[0m \u001b[0m_\u001b[0m \u001b[0;32min\u001b[0m \u001b[0mtqdm\u001b[0m\u001b[0;34m(\u001b[0m\u001b[0mrange\u001b[0m\u001b[0;34m(\u001b[0m\u001b[0mn\u001b[0m\u001b[0;34m)\u001b[0m\u001b[0;34m)\u001b[0m\u001b[0;34m:\u001b[0m\u001b[0;34m\u001b[0m\u001b[0;34m\u001b[0m\u001b[0m\n\u001b[1;32m     28\u001b[0m         r = np.abs([\n\u001b[0;32m---> 29\u001b[0;31m             \u001b[0msum\u001b[0m\u001b[0;34m(\u001b[0m\u001b[0ma\u001b[0m \u001b[0;34m*\u001b[0m \u001b[0mb\u001b[0m \u001b[0;32mfor\u001b[0m \u001b[0ma\u001b[0m\u001b[0;34m,\u001b[0m \u001b[0mb\u001b[0m \u001b[0;32min\u001b[0m \u001b[0mit\u001b[0m\u001b[0;34m.\u001b[0m\u001b[0mislice\u001b[0m\u001b[0;34m(\u001b[0m\u001b[0mzip\u001b[0m\u001b[0;34m(\u001b[0m\u001b[0mx\u001b[0m\u001b[0;34m,\u001b[0m \u001b[0mpattern\u001b[0m\u001b[0;34m(\u001b[0m\u001b[0mi\u001b[0m\u001b[0;34m+\u001b[0m\u001b[0;36m1\u001b[0m\u001b[0;34m)\u001b[0m\u001b[0;34m)\u001b[0m\u001b[0;34m,\u001b[0m \u001b[0mi\u001b[0m\u001b[0;34m,\u001b[0m \u001b[0;32mNone\u001b[0m\u001b[0;34m)\u001b[0m\u001b[0;34m)\u001b[0m\u001b[0;34m\u001b[0m\u001b[0;34m\u001b[0m\u001b[0m\n\u001b[0m\u001b[1;32m     30\u001b[0m             \u001b[0;32mfor\u001b[0m \u001b[0mi\u001b[0m \u001b[0;32min\u001b[0m \u001b[0mrange\u001b[0m\u001b[0;34m(\u001b[0m\u001b[0mlen\u001b[0m\u001b[0;34m(\u001b[0m\u001b[0mx\u001b[0m\u001b[0;34m)\u001b[0m\u001b[0;34m)\u001b[0m\u001b[0;34m\u001b[0m\u001b[0;34m\u001b[0m\u001b[0m\n\u001b[1;32m     31\u001b[0m         ])\n",
      "\u001b[0;31mKeyboardInterrupt\u001b[0m: "
     ]
    }
   ],
   "source": [
    "%%time\n",
    "p100 = phase_at(blob, 100)\n",
    "p100[:8]"
   ]
  },
  {
   "cell_type": "code",
   "execution_count": 6,
   "metadata": {},
   "outputs": [
    {
     "data": {
      "text/plain": [
       "(1, 2, 3, 4, 5, 6, 7, 8)"
      ]
     },
     "execution_count": 6,
     "metadata": {},
     "output_type": "execute_result"
    }
   ],
   "source": [
    "x = tuple(map(int, \"12345678\"))\n",
    "x"
   ]
  },
  {
   "cell_type": "code",
   "execution_count": 9,
   "metadata": {},
   "outputs": [
    {
     "data": {
      "text/plain": [
       "array([[ 1,  0, -1,  0,  1,  0, -1,  0],\n",
       "       [ 0,  1,  1,  0,  0, -1, -1,  0],\n",
       "       [ 0,  0,  1,  1,  1,  0,  0,  0],\n",
       "       [ 0,  0,  0,  1,  1,  1,  1,  0],\n",
       "       [ 0,  0,  0,  0,  1,  1,  1,  1],\n",
       "       [ 0,  0,  0,  0,  0,  1,  1,  1],\n",
       "       [ 0,  0,  0,  0,  0,  0,  1,  1],\n",
       "       [ 0,  0,  0,  0,  0,  0,  0,  1]])"
      ]
     },
     "execution_count": 9,
     "metadata": {},
     "output_type": "execute_result"
    }
   ],
   "source": [
    "pattern_matrix(len(x))"
   ]
  },
  {
   "cell_type": "code",
   "execution_count": 8,
   "metadata": {},
   "outputs": [
    {
     "data": {
      "text/plain": [
       "array([[ 1,  0, -1,  0,  1,  0, -1,  0,  1,  0, -1,  0,  1,  0, -1,  0],\n",
       "       [ 0,  1,  1,  0,  0, -1, -1,  0,  0,  1,  1,  0,  0, -1, -1,  0],\n",
       "       [ 0,  0,  1,  1,  1,  0,  0,  0, -1, -1, -1,  0,  0,  0,  1,  1],\n",
       "       [ 0,  0,  0,  1,  1,  1,  1,  0,  0,  0,  0, -1, -1, -1, -1,  0],\n",
       "       [ 0,  0,  0,  0,  1,  1,  1,  1,  1,  0,  0,  0,  0,  0, -1, -1],\n",
       "       [ 0,  0,  0,  0,  0,  1,  1,  1,  1,  1,  1,  0,  0,  0,  0,  0],\n",
       "       [ 0,  0,  0,  0,  0,  0,  1,  1,  1,  1,  1,  1,  1,  0,  0,  0],\n",
       "       [ 0,  0,  0,  0,  0,  0,  0,  1,  1,  1,  1,  1,  1,  1,  1,  0],\n",
       "       [ 0,  0,  0,  0,  0,  0,  0,  0,  1,  1,  1,  1,  1,  1,  1,  1],\n",
       "       [ 0,  0,  0,  0,  0,  0,  0,  0,  0,  1,  1,  1,  1,  1,  1,  1],\n",
       "       [ 0,  0,  0,  0,  0,  0,  0,  0,  0,  0,  1,  1,  1,  1,  1,  1],\n",
       "       [ 0,  0,  0,  0,  0,  0,  0,  0,  0,  0,  0,  1,  1,  1,  1,  1],\n",
       "       [ 0,  0,  0,  0,  0,  0,  0,  0,  0,  0,  0,  0,  1,  1,  1,  1],\n",
       "       [ 0,  0,  0,  0,  0,  0,  0,  0,  0,  0,  0,  0,  0,  1,  1,  1],\n",
       "       [ 0,  0,  0,  0,  0,  0,  0,  0,  0,  0,  0,  0,  0,  0,  1,  1],\n",
       "       [ 0,  0,  0,  0,  0,  0,  0,  0,  0,  0,  0,  0,  0,  0,  0,  1]])"
      ]
     },
     "execution_count": 8,
     "metadata": {},
     "output_type": "execute_result"
    }
   ],
   "source": [
    "pattern_matrix(len(x)*2)"
   ]
  },
  {
   "cell_type": "code",
   "execution_count": 14,
   "metadata": {},
   "outputs": [],
   "source": [
    "n = 1\n",
    "L = 4 * n\n",
    "P = len(INPUT)"
   ]
  },
  {
   "cell_type": "code",
   "execution_count": 18,
   "metadata": {},
   "outputs": [
    {
     "data": {
      "text/plain": [
       "1300"
      ]
     },
     "execution_count": 18,
     "metadata": {},
     "output_type": "execute_result"
    }
   ],
   "source": [
    "np.lcm(L, P)"
   ]
  },
  {
   "cell_type": "code",
   "execution_count": 19,
   "metadata": {},
   "outputs": [
    {
     "data": {
      "text/plain": [
       "(4, 650)"
      ]
     },
     "execution_count": 19,
     "metadata": {},
     "output_type": "execute_result"
    }
   ],
   "source": [
    "L, P"
   ]
  },
  {
   "cell_type": "code",
   "execution_count": 20,
   "metadata": {},
   "outputs": [
    {
     "data": {
      "text/plain": [
       "2600"
      ]
     },
     "execution_count": 20,
     "metadata": {},
     "output_type": "execute_result"
    }
   ],
   "source": [
    "L * P"
   ]
  },
  {
   "cell_type": "code",
   "execution_count": 23,
   "metadata": {},
   "outputs": [
    {
     "data": {
      "text/plain": [
       "(325, 2)"
      ]
     },
     "execution_count": 23,
     "metadata": {},
     "output_type": "execute_result"
    }
   ],
   "source": [
    "1300 // L, 1300 // P"
   ]
  },
  {
   "cell_type": "code",
   "execution_count": 28,
   "metadata": {},
   "outputs": [
    {
     "data": {
      "text/plain": [
       "array([ 5,  0, -7, ...,  0, -7,  0])"
      ]
     },
     "execution_count": 28,
     "metadata": {},
     "output_type": "execute_result"
    }
   ],
   "source": [
    "pattern_matrix(1300)[0, :] * np.array(list(INPUT * 2), dtype=int)"
   ]
  },
  {
   "cell_type": "code",
   "execution_count": 37,
   "metadata": {},
   "outputs": [
    {
     "data": {
      "text/plain": [
       "array([ 5,  0, -7,  0,  9,  0, -7,  0,  1,  0,  0,  0,  9,  0, -1,  0,  4,\n",
       "        0, -5,  0,  5,  0, -4,  0,  7,  0, -1,  0,  5,  0, -7,  0,  9,  0,\n",
       "       -9,  0,  6,  0, -5,  0,  0,  0, -7,  0,  8,  0, -9,  0,  3,  0, -7,\n",
       "        0,  8,  0,  0,  0,  4,  0, -8,  0,  3,  0, -9,  0,  4,  0, -2,  0,\n",
       "        1,  0, -7,  0,  2,  0, -1,  0,  3,  0, -9,  0,  8,  0, -5,  0,  6,\n",
       "        0, -3,  0,  1,  0, -3,  0,  5,  0, -9,  0,  1,  0, -9,  0,  3,  0,\n",
       "       -4,  0,  8,  0, -4,  0,  7,  0, -7,  0,  4,  0, -1,  0,  5,  0, -3,\n",
       "        0,  1,  0, -2,  0,  6,  0, -8,  0,  0,  0, -3,  0,  8,  0, -2,  0,\n",
       "        5,  0, -9,  0,  4,  0, -6,  0,  3,  0, -2,  0,  1,  0, -4,  0,  1,\n",
       "        0, -1,  0,  1,  0, -2,  0,  8,  0,  0,  0,  3,  0, -5,  0,  3,  0,\n",
       "       -3,  0,  5,  0, -3,  0,  4,  0, -4,  0,  6,  0, -9,  0,  1,  0, -8,\n",
       "        0,  9,  0, -9,  0,  8,  0, -6,  0,  3,  0, -5,  0,  1,  0,  0,  0,\n",
       "        9,  0, -8,  0,  9,  0, -2,  0,  3,  0, -6,  0,  0,  0, -4,  0,  8,\n",
       "        0, -5,  0,  2,  0, -4,  0,  2,  0, -4,  0,  8,  0, -6,  0,  6,  0,\n",
       "       -4,  0,  7,  0, -1,  0,  1,  0, -7,  0,  1,  0, -1,  0,  4,  0, -6,\n",
       "        0,  5,  0, -7,  0,  8,  0,  0,  0,  4,  0, -8,  0,  4,  0, -6,  0,\n",
       "        7,  0, -6,  0,  5,  0, -9,  0,  9,  0, -6,  0,  3,  0, -2,  0,  1,\n",
       "        0, -1,  0,  0,  0, -1,  0,  2,  0, -2,  0,  1,  0, -6,  0,  7,  0,\n",
       "       -1,  0,  0,  0, -1,  0,  5,  0, -6,  0,  6,  0, -8,  0,  2,  0, -7,\n",
       "        0,  3,  0, -6,  0,  1,  0, -4,  0,  1,  0,  0,  0,  9,  0,  0,  0,\n",
       "        4,  0, -9,  0,  2,  0, -7,  0,  2,  0, -1,  0,  2,  0, -4,  0,  0,\n",
       "        0, -5,  0,  7,  0, -2,  0,  9,  0, -4,  0,  0,  0, -4,  0,  4,  0,\n",
       "       -7,  0,  2,  0, -4,  0,  7,  0, -6,  0,  0,  0, -4,  0,  7,  0, -6,\n",
       "        0,  5,  0, -9,  0,  7,  0, -8,  0,  5,  0, -1,  0,  7,  0, -9,  0,\n",
       "        9,  0,  0,  0,  9,  0, -8,  0,  5,  0, -3,  0,  9,  0, -7,  0,  7,\n",
       "        0, -1,  0,  9,  0, -7,  0,  7,  0, -3,  0,  2,  0, -5,  0,  2,  0,\n",
       "       -9,  0,  3,  0, -6,  0,  3,  0, -7,  0,  4,  0, -4,  0,  2,  0, -3,\n",
       "        0,  6,  0, -6,  0,  4,  0, -3,  0,  9,  0,  0,  0,  2,  0, -7,  0,\n",
       "        8,  0, -4,  0,  1,  0, -6,  0,  6,  0, -2,  0,  3,  0, -6,  0,  6,\n",
       "        0, -5,  0,  7,  0, -6,  0,  6,  0, -1,  0,  6,  0, -6,  0,  0,  0,\n",
       "       -4,  0,  6,  0, -3,  0,  1,  0, -6,  0,  8,  0,  0,  0,  6,  0, -9,\n",
       "        0,  6,  0, -9,  0,  1,  0, -5,  0,  7,  0, -5,  0,  9,  0, -8,  0,\n",
       "        4,  0, -1,  0,  5,  0, -9,  0,  2,  0, -6,  0,  2,  0, -4,  0,  3,\n",
       "        0, -6,  0,  4,  0, -2,  0,  1,  0, -8,  0,  7,  0, -6,  0,  4,  0,\n",
       "       -7,  0,  6,  0, -5,  0,  9,  0, -9,  0,  6,  0,  0,  0,  9,  0, -3,\n",
       "        0,  9,  0, -7,  0,  7,  0, -6,  0,  5,  0, -8,  0,  0,  0, -4,  0,\n",
       "        4,  0, -9,  0,  0,  0, -1,  0,  9,  0, -6,  0,  5,  0, -5,  0,  2,\n",
       "        0, -6,  0,  0,  0, -6,  0,  6,  0, -9,  0,  8,  0, -1,  0,  4,  0,\n",
       "       -7,  0,  7,  0])"
      ]
     },
     "execution_count": 37,
     "metadata": {},
     "output_type": "execute_result"
    }
   ],
   "source": [
    "zz = pattern_matrix(1300)[0, :] * np.array(list(INPUT * 2), dtype=int)\n",
    "zz[:650]"
   ]
  },
  {
   "cell_type": "code",
   "execution_count": 38,
   "metadata": {},
   "outputs": [
    {
     "data": {
      "text/plain": [
       "array([-5,  0,  7,  0, -9,  0,  7,  0, -1,  0,  0,  0, -9,  0,  1,  0, -4,\n",
       "        0,  5,  0, -5,  0,  4,  0, -7,  0,  1,  0, -5,  0,  7,  0, -9,  0,\n",
       "        9,  0, -6,  0,  5,  0,  0,  0,  7,  0, -8,  0,  9,  0, -3,  0,  7,\n",
       "        0, -8,  0,  0,  0, -4,  0,  8,  0, -3,  0,  9,  0, -4,  0,  2,  0,\n",
       "       -1,  0,  7,  0, -2,  0,  1,  0, -3,  0,  9,  0, -8,  0,  5,  0, -6,\n",
       "        0,  3,  0, -1,  0,  3,  0, -5,  0,  9,  0, -1,  0,  9,  0, -3,  0,\n",
       "        4,  0, -8,  0,  4,  0, -7,  0,  7,  0, -4,  0,  1,  0, -5,  0,  3,\n",
       "        0, -1,  0,  2,  0, -6,  0,  8,  0,  0,  0,  3,  0, -8,  0,  2,  0,\n",
       "       -5,  0,  9,  0, -4,  0,  6,  0, -3,  0,  2,  0, -1,  0,  4,  0, -1,\n",
       "        0,  1,  0, -1,  0,  2,  0, -8,  0,  0,  0, -3,  0,  5,  0, -3,  0,\n",
       "        3,  0, -5,  0,  3,  0, -4,  0,  4,  0, -6,  0,  9,  0, -1,  0,  8,\n",
       "        0, -9,  0,  9,  0, -8,  0,  6,  0, -3,  0,  5,  0, -1,  0,  0,  0,\n",
       "       -9,  0,  8,  0, -9,  0,  2,  0, -3,  0,  6,  0,  0,  0,  4,  0, -8,\n",
       "        0,  5,  0, -2,  0,  4,  0, -2,  0,  4,  0, -8,  0,  6,  0, -6,  0,\n",
       "        4,  0, -7,  0,  1,  0, -1,  0,  7,  0, -1,  0,  1,  0, -4,  0,  6,\n",
       "        0, -5,  0,  7,  0, -8,  0,  0,  0, -4,  0,  8,  0, -4,  0,  6,  0,\n",
       "       -7,  0,  6,  0, -5,  0,  9,  0, -9,  0,  6,  0, -3,  0,  2,  0, -1,\n",
       "        0,  1,  0,  0,  0,  1,  0, -2,  0,  2,  0, -1,  0,  6,  0, -7,  0,\n",
       "        1,  0,  0,  0,  1,  0, -5,  0,  6,  0, -6,  0,  8,  0, -2,  0,  7,\n",
       "        0, -3,  0,  6,  0, -1,  0,  4,  0, -1,  0,  0,  0, -9,  0,  0,  0,\n",
       "       -4,  0,  9,  0, -2,  0,  7,  0, -2,  0,  1,  0, -2,  0,  4,  0,  0,\n",
       "        0,  5,  0, -7,  0,  2,  0, -9,  0,  4,  0,  0,  0,  4,  0, -4,  0,\n",
       "        7,  0, -2,  0,  4,  0, -7,  0,  6,  0,  0,  0,  4,  0, -7,  0,  6,\n",
       "        0, -5,  0,  9,  0, -7,  0,  8,  0, -5,  0,  1,  0, -7,  0,  9,  0,\n",
       "       -9,  0,  0,  0, -9,  0,  8,  0, -5,  0,  3,  0, -9,  0,  7,  0, -7,\n",
       "        0,  1,  0, -9,  0,  7,  0, -7,  0,  3,  0, -2,  0,  5,  0, -2,  0,\n",
       "        9,  0, -3,  0,  6,  0, -3,  0,  7,  0, -4,  0,  4,  0, -2,  0,  3,\n",
       "        0, -6,  0,  6,  0, -4,  0,  3,  0, -9,  0,  0,  0, -2,  0,  7,  0,\n",
       "       -8,  0,  4,  0, -1,  0,  6,  0, -6,  0,  2,  0, -3,  0,  6,  0, -6,\n",
       "        0,  5,  0, -7,  0,  6,  0, -6,  0,  1,  0, -6,  0,  6,  0,  0,  0,\n",
       "        4,  0, -6,  0,  3,  0, -1,  0,  6,  0, -8,  0,  0,  0, -6,  0,  9,\n",
       "        0, -6,  0,  9,  0, -1,  0,  5,  0, -7,  0,  5,  0, -9,  0,  8,  0,\n",
       "       -4,  0,  1,  0, -5,  0,  9,  0, -2,  0,  6,  0, -2,  0,  4,  0, -3,\n",
       "        0,  6,  0, -4,  0,  2,  0, -1,  0,  8,  0, -7,  0,  6,  0, -4,  0,\n",
       "        7,  0, -6,  0,  5,  0, -9,  0,  9,  0, -6,  0,  0,  0, -9,  0,  3,\n",
       "        0, -9,  0,  7,  0, -7,  0,  6,  0, -5,  0,  8,  0,  0,  0,  4,  0,\n",
       "       -4,  0,  9,  0,  0,  0,  1,  0, -9,  0,  6,  0, -5,  0,  5,  0, -2,\n",
       "        0,  6,  0,  0,  0,  6,  0, -6,  0,  9,  0, -8,  0,  1,  0, -4,  0,\n",
       "        7,  0, -7,  0])"
      ]
     },
     "execution_count": 38,
     "metadata": {},
     "output_type": "execute_result"
    }
   ],
   "source": [
    "zz[650:]"
   ]
  },
  {
   "cell_type": "code",
   "execution_count": null,
   "metadata": {},
   "outputs": [],
   "source": []
  }
 ],
 "metadata": {
  "kernelspec": {
   "display_name": "Python 3",
   "language": "python",
   "name": "python3"
  },
  "language_info": {
   "codemirror_mode": {
    "name": "ipython",
    "version": 3
   },
   "file_extension": ".py",
   "mimetype": "text/x-python",
   "name": "python",
   "nbconvert_exporter": "python",
   "pygments_lexer": "ipython3",
   "version": "3.6.9"
  }
 },
 "nbformat": 4,
 "nbformat_minor": 2
}
