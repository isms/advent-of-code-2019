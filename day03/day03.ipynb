{
 "cells": [
  {
   "cell_type": "code",
   "execution_count": 1,
   "metadata": {
    "collapsed": false,
    "pycharm": {
     "is_executing": false,
     "name": "#%%\n"
    }
   },
   "outputs": [],
   "source": [
    "%matplotlib inline\n",
    "from matplotlib import pyplot as plt"
   ]
  },
  {
   "cell_type": "markdown",
   "metadata": {
    "pycharm": {
     "name": "#%% md\n"
    }
   },
   "source": [
    "**You trace the path each wire takes as it leaves the central port, one wire per line of text.**\n",
    "\n",
    "The wires twist and turn, but the two wires occasionally cross paths. To fix the circuit,\n",
    "**you need to find the intersection point closest to the central port**. Because the wires are\n",
    "on a grid, use the Manhattan distance for this measurement. While the wires do technically\n",
    "cross right at the central port where they both start, this point does not count, nor does\n",
    "a wire count as crossing with itself.\n",
    "\n",
    "For example, if the first wire's path is R8,U5,L5,D3, then starting from the central port (o), it goes right\n",
    "8, up 5, left 5, and finally down 3:\n",
    "\n",
    "```\n",
    "...........\n",
    "...........\n",
    "...........\n",
    "....+----+.\n",
    "....|....|.\n",
    "....|....|.\n",
    "....|....|.\n",
    ".........|.\n",
    ".o-------+.\n",
    "...........\n",
    "```\n",
    "\n",
    "Then, if the second wire's path is U7,R6,D4,L4, it goes up 7, right 6, down 4, and left 4:\n",
    "\n",
    "```\n",
    "...........\n",
    ".+-----+...\n",
    ".|.....|...\n",
    ".|..+--X-+.\n",
    ".|..|..|.|.\n",
    ".|.-X--+.|.\n",
    ".|..|....|.\n",
    ".|.......|.\n",
    ".o-------+.\n",
    "...........\n",
    "```\n",
    "\n",
    "These wires cross at two locations (marked X), but the lower-left one is closer to the central port:\n",
    "its distance is 3 + 3 = 6.\n",
    "\n",
    "Here are a few more examples:\n",
    "\n",
    "- `R75,D30,R83,U83,L12,D49,R71,U7,L72 U62,R66,U55,R34,D71,R55,D58,R83` = distance 159\n",
    "- `R98,U47,R26,D63,R33,U87,L62,D20,R33,U53,R51,U98,R91,D20,R16,D67,R40,U7,R15,U6,R7` = distance 135\n",
    "\n",
    "What is the Manhattan distance from the central port to the closest intersection?"
   ]
  },
  {
   "cell_type": "code",
   "execution_count": 1,
   "metadata": {
    "collapsed": true,
    "pycharm": {
     "is_executing": false
    }
   },
   "outputs": [],
   "source": [
    "import numpy as np\n",
    "\n",
    "def diff(instruction):\n",
    "    dir, n = instruction[0], int(instruction[1:])\n",
    "    result = np.array([0, 0])\n",
    "    slot = 0 if dir in \"RL\" else 1\n",
    "    sign = -1 if dir in \"DL\" else 1\n",
    "    result[slot] = sign * n\n",
    "    return result\n",
    "\n",
    "def instructions_to_coordinates(instructions):\n",
    "    curr = np.array([0, 0])\n",
    "    points = [curr.copy()]\n",
    "    for instruction in instructions:\n",
    "        delta = diff(instruction)\n",
    "        curr += delta\n",
    "        points.append(curr.copy())\n",
    "    return np.array(points)\n",
    "\n",
    "def coords_to_layer(coords, h, w):\n",
    "    layer = np.zeros((w, h), dtype=np.int)\n",
    "    for (x0, y0), (x1, y1) in zip(coords[:-1], coords[1:]):\n",
    "        (c0, c1), (r0, r1) = sorted((x0, x1)), sorted((y0, y1))\n",
    "        if c0 == c1:\n",
    "            layer[r0:r1+1, c0] = 1\n",
    "        elif r0 == r1:\n",
    "            layer[r0, c0:c1+1] = 1\n",
    "        else:\n",
    "            raise ValueError\n",
    "    return layer\n",
    "\n",
    "def text_to_all_coords(text):\n",
    "    all_coords = []\n",
    "    for line in text.splitlines():\n",
    "        instructions = line.strip().split(\",\")\n",
    "        coords = instructions_to_coordinates(instructions)\n",
    "        all_coords.append(coords)\n",
    "    return all_coords\n",
    "\n",
    "def all_coords_to_layers(all_coords):\n",
    "    center = -np.vstack(all_coords).min(axis=0)\n",
    "    for coords in all_coords:\n",
    "        coords += center\n",
    "    h, w = np.vstack(all_coords).max(axis=0) + 1\n",
    "    layers = [coords_to_layer(coords, h, w) for coords in all_coords]\n",
    "    return layers\n",
    "\n",
    "def intersections(layers):\n",
    "    intersects = np.ones_like(layers[0])\n",
    "    for layer in layers:\n",
    "        intersects &= layer\n",
    "    return np.argwhere(intersects)[:, ::-1]  # turn row/col back to y/x\n",
    "\n",
    "def intersection_dists(points, starting_point):\n",
    "    dists = np.sum(np.abs(points - starting_point), axis=1)\n",
    "    return sorted(dists[dists > 0])"
   ]
  },
  {
   "cell_type": "code",
   "execution_count": 2,
   "metadata": {},
   "outputs": [],
   "source": [
    "def part1(text):\n",
    "    all_coords = text_to_all_coords(text)\n",
    "    starting_point = all_coords[0][0, :]\n",
    "    layers = all_coords_to_layers(all_coords)\n",
    "    points = intersections(layers)\n",
    "    dists = intersection_dists(points, starting_point)\n",
    "    return dists[0]"
   ]
  },
  {
   "cell_type": "code",
   "execution_count": 3,
   "metadata": {
    "collapsed": false,
    "pycharm": {
     "is_executing": false,
     "name": "#%%\n"
    }
   },
   "outputs": [],
   "source": [
    "assert part1(\"\"\"R75,D30,R83,U83,L12,D49,R71,U7,L72\n",
    "U62,R66,U55,R34,D71,R55,D58,R83\"\"\") == 159\n",
    "\n",
    "assert part1(\"\"\"R98,U47,R26,D63,R33,U87,L62,D20,R33,U53,R51\n",
    "U98,R91,D20,R16,D67,R40,U7,R15,U6,R7\"\"\") == 135"
   ]
  },
  {
   "cell_type": "code",
   "execution_count": 4,
   "metadata": {},
   "outputs": [
    {
     "name": "stdout",
     "output_type": "stream",
     "text": [
      "CPU times: user 1.33 s, sys: 803 ms, total: 2.13 s\n",
      "Wall time: 2.13 s\n"
     ]
    },
    {
     "data": {
      "text/plain": [
       "308"
      ]
     },
     "execution_count": 4,
     "metadata": {},
     "output_type": "execute_result"
    }
   ],
   "source": [
    "%%time\n",
    "with open(\"input.txt\", \"r\") as fp:\n",
    "    text = fp.read()\n",
    "part1(text)"
   ]
  },
  {
   "cell_type": "code",
   "execution_count": 5,
   "metadata": {},
   "outputs": [],
   "source": [
    "def part2(text):\n",
    "    all_coords = text_to_all_coords(text)\n",
    "    starting_point = all_coords[0][0, :]\n",
    "    layers = all_coords_to_layers(all_coords)\n",
    "    points = intersections(layers)\n",
    "    crossing_points = {tuple(c.ravel()) for c in points if not (c == all_coords[0][0]).all()}\n",
    "    counters = []\n",
    "\n",
    "    for cc in all_coords:\n",
    "        curr = cc[0].copy()\n",
    "        step = 0\n",
    "        diffs = np.diff(cc, axis=0)\n",
    "        crossing_steps = {}\n",
    "        for i in range(len(diffs)):\n",
    "            n_steps = np.abs(diffs[i]).sum()\n",
    "            move = (diffs[i] / n_steps).astype(np.int)\n",
    "            for j in range(n_steps):\n",
    "                curr += move\n",
    "                step += 1\n",
    "                x, y = curr\n",
    "                if (x, y) in crossing_points and (x, y) not in crossing_steps:\n",
    "                    crossing_steps[(x, y)] = step\n",
    "        counters.append(crossing_steps)\n",
    "\n",
    "    final_counts = {}\n",
    "    for k in crossing_points:\n",
    "        final_counts[k] = 0\n",
    "        for counter in counters:\n",
    "            final_counts[k] += counter[k]\n",
    "    best_combined = min(final_counts.values())\n",
    "    return best_combined"
   ]
  },
  {
   "cell_type": "code",
   "execution_count": 7,
   "metadata": {},
   "outputs": [],
   "source": [
    "assert part2(\"\"\"R75,D30,R83,U83,L12,D49,R71,U7,L72\n",
    "U62,R66,U55,R34,D71,R55,D58,R83\"\"\") == 610\n",
    "\n",
    "assert part2(\"\"\"R98,U47,R26,D63,R33,U87,L62,D20,R33,U53,R51\n",
    "U98,R91,D20,R16,D67,R40,U7,R15,U6,R7\"\"\") == 410"
   ]
  },
  {
   "cell_type": "code",
   "execution_count": 8,
   "metadata": {},
   "outputs": [
    {
     "name": "stdout",
     "output_type": "stream",
     "text": [
      "CPU times: user 1.86 s, sys: 709 ms, total: 2.57 s\n",
      "Wall time: 2.56 s\n"
     ]
    },
    {
     "data": {
      "text/plain": [
       "12934"
      ]
     },
     "execution_count": 8,
     "metadata": {},
     "output_type": "execute_result"
    }
   ],
   "source": [
    "%%time\n",
    "with open(\"input.txt\", \"r\") as fp:\n",
    "    text = fp.read()\n",
    "part2(text)"
   ]
  },
  {
   "cell_type": "code",
   "execution_count": null,
   "metadata": {},
   "outputs": [],
   "source": []
  }
 ],
 "metadata": {
  "kernelspec": {
   "display_name": "Python 3",
   "language": "python",
   "name": "python3"
  },
  "language_info": {
   "codemirror_mode": {
    "name": "ipython",
    "version": 3
   },
   "file_extension": ".py",
   "mimetype": "text/x-python",
   "name": "python",
   "nbconvert_exporter": "python",
   "pygments_lexer": "ipython3",
   "version": "3.6.9"
  },
  "pycharm": {
   "stem_cell": {
    "cell_type": "raw",
    "metadata": {
     "collapsed": false
    },
    "source": []
   }
  }
 },
 "nbformat": 4,
 "nbformat_minor": 2
}
