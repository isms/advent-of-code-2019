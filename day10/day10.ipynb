{
 "cells": [
  {
   "cell_type": "code",
   "execution_count": 39,
   "metadata": {},
   "outputs": [],
   "source": [
    "import numpy as np\n",
    "import pandas as pd\n",
    "from pathlib import Path\n",
    "\n",
    "example = \"\"\"\n",
    ".#..#\n",
    ".....\n",
    "#####\n",
    "....#\n",
    "...##\n",
    "\"\"\"\n",
    "\n",
    "input_text = Path(\"input.txt\").read_text()"
   ]
  },
  {
   "cell_type": "code",
   "execution_count": 2,
   "metadata": {},
   "outputs": [
    {
     "data": {
      "text/plain": [
       "array([['.', '#', '.', '.', '#'],\n",
       "       ['.', '.', '.', '.', '.'],\n",
       "       ['#', '#', '#', '#', '#'],\n",
       "       ['.', '.', '.', '.', '#'],\n",
       "       ['.', '.', '.', '#', '#']], dtype='<U1')"
      ]
     },
     "execution_count": 2,
     "metadata": {},
     "output_type": "execute_result"
    }
   ],
   "source": [
    "def text_to_array(text):\n",
    "    return np.array([list(row.strip()) for row in text.strip().splitlines()])\n",
    "\n",
    "text_to_array(example)"
   ]
  },
  {
   "cell_type": "code",
   "execution_count": 3,
   "metadata": {},
   "outputs": [
    {
     "data": {
      "text/plain": [
       "array([[1, 0],\n",
       "       [4, 0],\n",
       "       [0, 2],\n",
       "       [1, 2],\n",
       "       [2, 2],\n",
       "       [3, 2],\n",
       "       [4, 2],\n",
       "       [4, 3],\n",
       "       [3, 4],\n",
       "       [4, 4]])"
      ]
     },
     "execution_count": 3,
     "metadata": {},
     "output_type": "execute_result"
    }
   ],
   "source": [
    "def get_asteroids(arr):\n",
    "    return np.flip(np.argwhere(arr == \"#\"), axis=1)\n",
    "\n",
    "get_asteroids(text_to_array(example))"
   ]
  },
  {
   "cell_type": "code",
   "execution_count": 23,
   "metadata": {},
   "outputs": [
    {
     "data": {
      "text/plain": [
       "array([7, 7, 6, 7, 7, 7, 5, 7, 8, 7])"
      ]
     },
     "execution_count": 23,
     "metadata": {},
     "output_type": "execute_result"
    }
   ],
   "source": [
    "def get_angles(dxs, dys):\n",
    "    degrees = np.rad2deg(np.arctan2(dys, dxs))\n",
    "    degrees[degrees < 0] += 360.0\n",
    "    return np.mod(degrees + 90.0, 360.0)\n",
    "\n",
    "def get_dists(dxs, dys):\n",
    "    return np.sqrt(dxs ** 2 + dys **2)\n",
    "\n",
    "def filter_location(location, asteroids):\n",
    "    return asteroids[np.abs(asteroids - location).sum(axis=1) > 0]\n",
    "    \n",
    "def line_of_sight(asteroids):\n",
    "    result = np.zeros(len(asteroids), dtype=np.int)\n",
    "    for i, candidate in enumerate(asteroids):\n",
    "        others = filter_location(candidate, asteroids)\n",
    "        dxs = others[:, 0] - candidate[0]\n",
    "        dys = others[:, 1] - candidate[1]\n",
    "        dists = get_dists(dxs, dys)\n",
    "        angles = get_angles(dys, dxs)\n",
    "        df = pd.DataFrame({\"dist\": dists, \"angle\": angles})\n",
    "        result[i] = df.sort_values(\"dist\").drop_duplicates(\"angle\", keep=\"first\").shape[0]\n",
    "    return result\n",
    "\n",
    "line_of_sight(get_asteroids(text_to_array(example)))"
   ]
  },
  {
   "cell_type": "markdown",
   "metadata": {},
   "source": [
    "### Part 1"
   ]
  },
  {
   "cell_type": "code",
   "execution_count": 24,
   "metadata": {},
   "outputs": [],
   "source": [
    "def get_best(text):\n",
    "    arr = text_to_array(text)\n",
    "    asteroids = get_asteroids(arr)\n",
    "    n_in_sight = line_of_sight(asteroids)\n",
    "    best_asteroid = asteroids[n_in_sight.argmax()]\n",
    "    best_number = n_in_sight.max()\n",
    "    return tuple(best_asteroid), best_number"
   ]
  },
  {
   "cell_type": "code",
   "execution_count": 25,
   "metadata": {},
   "outputs": [],
   "source": [
    "(x, y), n = get_best(\"\"\"\n",
    ".#..#\n",
    ".....\n",
    "#####\n",
    "....#\n",
    "...##\n",
    "\"\"\")\n",
    "assert((x, y) == (3, 4))\n",
    "assert(n == 8)"
   ]
  },
  {
   "cell_type": "code",
   "execution_count": 26,
   "metadata": {},
   "outputs": [],
   "source": [
    "(x, y), n = get_best(\"\"\"\n",
    "......#.#.\n",
    "#..#.#....\n",
    "..#######.\n",
    ".#.#.###..\n",
    ".#..#.....\n",
    "..#....#.#\n",
    "#..#....#.\n",
    ".##.#..###\n",
    "##...#..#.\n",
    ".#....####\n",
    "\"\"\")\n",
    "assert((x, y) == (5, 8))\n",
    "assert(n == 33)"
   ]
  },
  {
   "cell_type": "code",
   "execution_count": 27,
   "metadata": {},
   "outputs": [],
   "source": [
    "(x, y), n = get_best(\"\"\"\n",
    ".#..#..###\n",
    "####.###.#\n",
    "....###.#.\n",
    "..###.##.#\n",
    "##.##.#.#.\n",
    "....###..#\n",
    "..#.#..#.#\n",
    "#..#.#.###\n",
    ".##...##.#\n",
    ".....#.#..\n",
    "\"\"\")\n",
    "assert((x, y) == (6, 3))\n",
    "assert(n == 41)"
   ]
  },
  {
   "cell_type": "code",
   "execution_count": 28,
   "metadata": {},
   "outputs": [],
   "source": [
    "large_example = \"\"\"\n",
    ".#..##.###...#######\n",
    "##.############..##.\n",
    ".#.######.########.#\n",
    ".###.#######.####.#.\n",
    "#####.##.#.##.###.##\n",
    "..#####..#.#########\n",
    "####################\n",
    "#.####....###.#.#.##\n",
    "##.#################\n",
    "#####.##.###..####..\n",
    "..######..##.#######\n",
    "####.##.####...##..#\n",
    ".#####..#.######.###\n",
    "##...#.##########...\n",
    "#.##########.#######\n",
    ".####.#.###.###.#.##\n",
    "....##.##.###..#####\n",
    ".#.#.###########.###\n",
    "#.#.#.#####.####.###\n",
    "###.##.####.##.#..##\n",
    "\"\"\"\n",
    "(x, y), n = get_best(large_example)\n",
    "assert((x, y) == (11, 13))\n",
    "assert(n == 210)"
   ]
  },
  {
   "cell_type": "code",
   "execution_count": 38,
   "metadata": {},
   "outputs": [
    {
     "ename": "NameError",
     "evalue": "name 'INPUT' is not defined",
     "output_type": "error",
     "traceback": [
      "\u001b[0;31m---------------------------------------------------------------------------\u001b[0m",
      "\u001b[0;31mNameError\u001b[0m                                 Traceback (most recent call last)",
      "\u001b[0;32m<ipython-input-38-1f640ac2bfbd>\u001b[0m in \u001b[0;36m<module>\u001b[0;34m\u001b[0m\n\u001b[0;32m----> 1\u001b[0;31m \u001b[0;34m(\u001b[0m\u001b[0mx\u001b[0m\u001b[0;34m,\u001b[0m \u001b[0my\u001b[0m\u001b[0;34m)\u001b[0m\u001b[0;34m,\u001b[0m \u001b[0mn\u001b[0m \u001b[0;34m=\u001b[0m \u001b[0mget_best\u001b[0m\u001b[0;34m(\u001b[0m\u001b[0mINPUT\u001b[0m\u001b[0;34m)\u001b[0m\u001b[0;34m\u001b[0m\u001b[0;34m\u001b[0m\u001b[0m\n\u001b[0m\u001b[1;32m      2\u001b[0m \u001b[0mprint\u001b[0m\u001b[0;34m(\u001b[0m\u001b[0;34mf\"best: {n} @ {x},{y}\"\u001b[0m\u001b[0;34m)\u001b[0m\u001b[0;34m\u001b[0m\u001b[0;34m\u001b[0m\u001b[0m\n",
      "\u001b[0;31mNameError\u001b[0m: name 'INPUT' is not defined"
     ]
    }
   ],
   "source": [
    "(x, y), n = get_best(input_text)\n",
    "print(f\"best: {n} @ {x},{y}\")"
   ]
  },
  {
   "cell_type": "markdown",
   "metadata": {},
   "source": [
    "### Part 2"
   ]
  },
  {
   "cell_type": "code",
   "execution_count": 61,
   "metadata": {},
   "outputs": [],
   "source": [
    "def vaporize(text):\n",
    "    arr = text_to_array(text)\n",
    "    asteroids = get_asteroids(arr)\n",
    "    (row, col), n = get_best(text)\n",
    "    location = np.array([row, col])\n",
    "    to_destroy = filter_location(location, asteroids)\n",
    "    dys = to_destroy[:, 1] - location[1]\n",
    "    dxs = to_destroy[:, 0] - location[0]\n",
    "    dists = get_dists(dxs, dys)\n",
    "    angles = get_angles(dxs, dys)\n",
    "    df = pd.DataFrame({\n",
    "        \"dx\": dxs,\n",
    "        \"dy\": dys,\n",
    "        \"x\": to_destroy[:, 0],\n",
    "        \"y\": to_destroy[:, 1],\n",
    "        \"angle\": get_angles(dxs, dys),\n",
    "        \"dist\": get_dists(dxs, dys)\n",
    "    }).sort_values([\"angle\", \"dist\"])\n",
    "    i = 1\n",
    "    n_killed = 1\n",
    "    all_killed = df.loc[df.index < 0]\n",
    "    while df.shape[0]:\n",
    "        killed = df.drop_duplicates(\"angle\", keep=\"first\")\n",
    "        for row in killed.itertuples():\n",
    "            n_killed += 1\n",
    "        print(f\"--- round {i} finished; killed {len(killed)} ---\")\n",
    "        df = df.loc[~df.index.isin(killed.index)]\n",
    "        all_killed = pd.concat([all_killed, killed])\n",
    "        i += 1\n",
    "    all_killed = all_killed.reset_index(drop=True)\n",
    "    all_killed.index += 1\n",
    "    return all_killed\n",
    "\n",
    "def part2(text):\n",
    "    result = vaporize(text)\n",
    "    vaporized200 = result.loc[200]\n",
    "    return vaporized200.x * 100 + vaporized200.y, result"
   ]
  },
  {
   "cell_type": "markdown",
   "metadata": {},
   "source": [
    "#### Verify based on example\n",
    "\n",
    "In the large example above (the one with the best monitoring station location at 11,13):\n",
    "\n",
    "```\n",
    "The 1st asteroid to be vaporized is at 11,12.\n",
    "The 2nd asteroid to be vaporized is at 12,1.\n",
    "The 3rd asteroid to be vaporized is at 12,2.\n",
    "The 10th asteroid to be vaporized is at 12,8.\n",
    "The 20th asteroid to be vaporized is at 16,0.\n",
    "The 50th asteroid to be vaporized is at 16,9.\n",
    "The 100th asteroid to be vaporized is at 10,16.\n",
    "The 199th asteroid to be vaporized is at 9,6.\n",
    "The 200th asteroid to be vaporized is at 8,2.\n",
    "The 201st asteroid to be vaporized is at 10,9.\n",
    "The 299th and final asteroid to be vaporized is at 11,1.\n",
    "```"
   ]
  },
  {
   "cell_type": "code",
   "execution_count": 62,
   "metadata": {},
   "outputs": [
    {
     "name": "stdout",
     "output_type": "stream",
     "text": [
      "--- round 1 finished; killed 210 ---\n",
      "--- round 2 finished; killed 43 ---\n",
      "--- round 3 finished; killed 17 ---\n",
      "--- round 4 finished; killed 8 ---\n",
      "--- round 5 finished; killed 6 ---\n",
      "--- round 6 finished; killed 5 ---\n",
      "--- round 7 finished; killed 3 ---\n",
      "--- round 8 finished; killed 2 ---\n",
      "--- round 9 finished; killed 2 ---\n",
      "--- round 10 finished; killed 1 ---\n",
      "--- round 11 finished; killed 1 ---\n",
      "--- round 12 finished; killed 1 ---\n",
      "answer: 802.0\n"
     ]
    },
    {
     "data": {
      "text/html": [
       "<div>\n",
       "<style scoped>\n",
       "    .dataframe tbody tr th:only-of-type {\n",
       "        vertical-align: middle;\n",
       "    }\n",
       "\n",
       "    .dataframe tbody tr th {\n",
       "        vertical-align: top;\n",
       "    }\n",
       "\n",
       "    .dataframe thead th {\n",
       "        text-align: right;\n",
       "    }\n",
       "</style>\n",
       "<table border=\"1\" class=\"dataframe\">\n",
       "  <thead>\n",
       "    <tr style=\"text-align: right;\">\n",
       "      <th></th>\n",
       "      <th>dx</th>\n",
       "      <th>dy</th>\n",
       "      <th>x</th>\n",
       "      <th>y</th>\n",
       "      <th>angle</th>\n",
       "      <th>dist</th>\n",
       "    </tr>\n",
       "  </thead>\n",
       "  <tbody>\n",
       "    <tr>\n",
       "      <th>1</th>\n",
       "      <td>0</td>\n",
       "      <td>-1</td>\n",
       "      <td>11</td>\n",
       "      <td>12</td>\n",
       "      <td>0.000000</td>\n",
       "      <td>1.000000</td>\n",
       "    </tr>\n",
       "    <tr>\n",
       "      <th>2</th>\n",
       "      <td>1</td>\n",
       "      <td>-12</td>\n",
       "      <td>12</td>\n",
       "      <td>1</td>\n",
       "      <td>4.763642</td>\n",
       "      <td>12.041595</td>\n",
       "    </tr>\n",
       "    <tr>\n",
       "      <th>3</th>\n",
       "      <td>1</td>\n",
       "      <td>-11</td>\n",
       "      <td>12</td>\n",
       "      <td>2</td>\n",
       "      <td>5.194429</td>\n",
       "      <td>11.045361</td>\n",
       "    </tr>\n",
       "    <tr>\n",
       "      <th>10</th>\n",
       "      <td>1</td>\n",
       "      <td>-5</td>\n",
       "      <td>12</td>\n",
       "      <td>8</td>\n",
       "      <td>11.309932</td>\n",
       "      <td>5.099020</td>\n",
       "    </tr>\n",
       "    <tr>\n",
       "      <th>20</th>\n",
       "      <td>5</td>\n",
       "      <td>-13</td>\n",
       "      <td>16</td>\n",
       "      <td>0</td>\n",
       "      <td>21.037511</td>\n",
       "      <td>13.928388</td>\n",
       "    </tr>\n",
       "    <tr>\n",
       "      <th>50</th>\n",
       "      <td>5</td>\n",
       "      <td>-4</td>\n",
       "      <td>16</td>\n",
       "      <td>9</td>\n",
       "      <td>51.340192</td>\n",
       "      <td>6.403124</td>\n",
       "    </tr>\n",
       "    <tr>\n",
       "      <th>100</th>\n",
       "      <td>-1</td>\n",
       "      <td>3</td>\n",
       "      <td>10</td>\n",
       "      <td>16</td>\n",
       "      <td>198.434949</td>\n",
       "      <td>3.162278</td>\n",
       "    </tr>\n",
       "    <tr>\n",
       "      <th>199</th>\n",
       "      <td>-2</td>\n",
       "      <td>-7</td>\n",
       "      <td>9</td>\n",
       "      <td>6</td>\n",
       "      <td>344.054604</td>\n",
       "      <td>7.280110</td>\n",
       "    </tr>\n",
       "    <tr>\n",
       "      <th>200</th>\n",
       "      <td>-3</td>\n",
       "      <td>-11</td>\n",
       "      <td>8</td>\n",
       "      <td>2</td>\n",
       "      <td>344.744881</td>\n",
       "      <td>11.401754</td>\n",
       "    </tr>\n",
       "    <tr>\n",
       "      <th>201</th>\n",
       "      <td>-1</td>\n",
       "      <td>-4</td>\n",
       "      <td>10</td>\n",
       "      <td>9</td>\n",
       "      <td>345.963757</td>\n",
       "      <td>4.123106</td>\n",
       "    </tr>\n",
       "    <tr>\n",
       "      <th>299</th>\n",
       "      <td>0</td>\n",
       "      <td>-12</td>\n",
       "      <td>11</td>\n",
       "      <td>1</td>\n",
       "      <td>0.000000</td>\n",
       "      <td>12.000000</td>\n",
       "    </tr>\n",
       "  </tbody>\n",
       "</table>\n",
       "</div>"
      ],
      "text/plain": [
       "     dx  dy   x   y       angle       dist\n",
       "1     0  -1  11  12    0.000000   1.000000\n",
       "2     1 -12  12   1    4.763642  12.041595\n",
       "3     1 -11  12   2    5.194429  11.045361\n",
       "10    1  -5  12   8   11.309932   5.099020\n",
       "20    5 -13  16   0   21.037511  13.928388\n",
       "50    5  -4  16   9   51.340192   6.403124\n",
       "100  -1   3  10  16  198.434949   3.162278\n",
       "199  -2  -7   9   6  344.054604   7.280110\n",
       "200  -3 -11   8   2  344.744881  11.401754\n",
       "201  -1  -4  10   9  345.963757   4.123106\n",
       "299   0 -12  11   1    0.000000  12.000000"
      ]
     },
     "execution_count": 62,
     "metadata": {},
     "output_type": "execute_result"
    }
   ],
   "source": [
    "answer, result = part2(large_example)\n",
    "print(\"answer:\", answer)\n",
    "result.loc[[1, 2, 3, 10, 20, 50, 100, 199, 200, 201, 299], :]"
   ]
  },
  {
   "cell_type": "markdown",
   "metadata": {},
   "source": [
    "#### Part 2 answer"
   ]
  },
  {
   "cell_type": "code",
   "execution_count": 64,
   "metadata": {},
   "outputs": [
    {
     "name": "stdout",
     "output_type": "stream",
     "text": [
      "--- round 1 finished; killed 303 ---\n",
      "--- round 2 finished; killed 41 ---\n",
      "--- round 3 finished; killed 10 ---\n",
      "--- round 4 finished; killed 5 ---\n",
      "--- round 5 finished; killed 2 ---\n",
      "--- round 6 finished; killed 1 ---\n"
     ]
    },
    {
     "data": {
      "text/plain": [
       "408.0"
      ]
     },
     "execution_count": 64,
     "metadata": {},
     "output_type": "execute_result"
    }
   ],
   "source": [
    "answer, _ = part2(input_text)\n",
    "answer"
   ]
  }
 ],
 "metadata": {
  "kernelspec": {
   "display_name": "Python 3",
   "language": "python",
   "name": "python3"
  },
  "language_info": {
   "codemirror_mode": {
    "name": "ipython",
    "version": 3
   },
   "file_extension": ".py",
   "mimetype": "text/x-python",
   "name": "python",
   "nbconvert_exporter": "python",
   "pygments_lexer": "ipython3",
   "version": "3.6.7"
  }
 },
 "nbformat": 4,
 "nbformat_minor": 2
}
