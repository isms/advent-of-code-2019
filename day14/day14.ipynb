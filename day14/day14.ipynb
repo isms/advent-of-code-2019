{
 "cells": [
  {
   "cell_type": "code",
   "execution_count": 1,
   "metadata": {},
   "outputs": [],
   "source": [
    "import pulp\n",
    "import numpy as np\n",
    "from pathlib import Path\n",
    "from datetime import datetime\n",
    "from collections import defaultdict\n",
    "\n",
    "INPUT = Path(\"input.txt\").read_text()\n",
    "\n",
    "def extract_pair(pair):\n",
    "    n, x = pair.strip().split()\n",
    "    return x, int(n)\n",
    "\n",
    "def parse(line):\n",
    "    ingredients, result = line.strip().split(\" => \")\n",
    "    ingredients = [extract_pair(pair) for pair in ingredients.split(\", \")]\n",
    "    return ingredients, [extract_pair(result)]\n",
    "\n",
    "def get_reactions(text):\n",
    "    reactions = []\n",
    "    for line in text.strip().splitlines():\n",
    "        ingredients, result = parse(line)\n",
    "        reaction = defaultdict(int)\n",
    "        for x, n in ingredients:\n",
    "            reaction[x] = -n\n",
    "        for x, n in result:\n",
    "            reaction[x] = n\n",
    "        reactions.append(reaction)\n",
    "    return reactions"
   ]
  },
  {
   "cell_type": "markdown",
   "metadata": {},
   "source": [
    "### Part 1"
   ]
  },
  {
   "cell_type": "code",
   "execution_count": 2,
   "metadata": {},
   "outputs": [],
   "source": [
    "def part1(text):\n",
    "    reactions = get_reactions(text)\n",
    "    products = {k for r in reactions for k in r.keys()}\n",
    "    n = len(reactions)\n",
    "\n",
    "    prob = pulp.LpProblem('part1', pulp.LpMinimize)\n",
    "    variables = {}\n",
    "    for i in range(n):\n",
    "        variables[i] = pulp.LpVariable(f'reaction_{i:02d}', lowBound=0, cat='Integer')\n",
    "        \n",
    "    # decide how much ore we start with\n",
    "    initial_ore = pulp.LpVariable(f'initial_ore', lowBound=0, cat='Integer')\n",
    "    \n",
    "    amounts = {}\n",
    "    initial = {\"ORE\": initial_ore}\n",
    "    for product in products:\n",
    "        amounts[product] = sum(reactions[i].get(product, 0) * variables[i] for i in range(n)) + initial.get(product, 0)\n",
    "        prob += (amounts[product] >= 0)\n",
    "    \n",
    "    # make at least one fuel\n",
    "    prob += (amounts[\"FUEL\"] >= 1)\n",
    "    \n",
    "    # objective function\n",
    "    prob += initial_ore\n",
    "    \n",
    "    # solve\n",
    "    optimization_result = prob.solve()\n",
    "    assert optimization_result == pulp.LpStatusOptimal\n",
    "    return int(initial_ore.value())"
   ]
  },
  {
   "cell_type": "code",
   "execution_count": 3,
   "metadata": {},
   "outputs": [
    {
     "name": "stdout",
     "output_type": "stream",
     "text": [
      "CPU times: user 173 ms, sys: 134 ms, total: 308 ms\n",
      "Wall time: 69.5 ms\n"
     ]
    },
    {
     "data": {
      "text/plain": [
       "612880"
      ]
     },
     "execution_count": 3,
     "metadata": {},
     "output_type": "execute_result"
    }
   ],
   "source": [
    "%%time\n",
    "part1(INPUT)"
   ]
  },
  {
   "cell_type": "markdown",
   "metadata": {},
   "source": [
    "### Part 2"
   ]
  },
  {
   "cell_type": "code",
   "execution_count": 4,
   "metadata": {},
   "outputs": [],
   "source": [
    "def part2(text):\n",
    "    reactions = get_reactions(text)\n",
    "    products = {k for r in reactions for k in r.keys()}\n",
    "    n = len(reactions)\n",
    "\n",
    "    prob = pulp.LpProblem('part2', pulp.LpMaximize)\n",
    "    variables = {}\n",
    "    for i in range(n):\n",
    "        variables[i] = pulp.LpVariable(f'reaction_{i:02d}', lowBound=0, cat='Integer')\n",
    "        \n",
    "    amounts = {}\n",
    "    initial = {\"ORE\": int(1e12)}\n",
    "    for product in products:\n",
    "        amounts[product] = sum(reactions[i].get(product, 0) * variables[i] for i in range(n)) + initial.get(product, 0)\n",
    "        prob += (amounts[product] >= 0)\n",
    "    \n",
    "    # objective function\n",
    "    prob += amounts[\"FUEL\"]\n",
    "    \n",
    "    # solve\n",
    "    optimization_result = prob.solve()\n",
    "    assert optimization_result == pulp.LpStatusOptimal\n",
    "    return int(amounts[\"FUEL\"].value())"
   ]
  },
  {
   "cell_type": "code",
   "execution_count": 5,
   "metadata": {},
   "outputs": [
    {
     "name": "stdout",
     "output_type": "stream",
     "text": [
      "CPU times: user 42 ms, sys: 8.81 ms, total: 50.8 ms\n",
      "Wall time: 161 ms\n"
     ]
    },
    {
     "data": {
      "text/plain": [
       "2509120"
      ]
     },
     "execution_count": 5,
     "metadata": {},
     "output_type": "execute_result"
    }
   ],
   "source": [
    "%%time\n",
    "part2(INPUT)"
   ]
  },
  {
   "cell_type": "markdown",
   "metadata": {},
   "source": [
    "### Tests"
   ]
  },
  {
   "cell_type": "code",
   "execution_count": 6,
   "metadata": {},
   "outputs": [],
   "source": [
    "text = \"\"\"\n",
    "10 ORE => 10 A\n",
    "1 ORE => 1 B\n",
    "7 A, 1 B => 1 C\n",
    "7 A, 1 C => 1 D\n",
    "7 A, 1 D => 1 E\n",
    "7 A, 1 E => 1 FUEL\n",
    "\"\"\"\n",
    "assert part1(text) == 31"
   ]
  },
  {
   "cell_type": "code",
   "execution_count": 7,
   "metadata": {},
   "outputs": [],
   "source": [
    "text = \"\"\"\n",
    "157 ORE => 5 NZVS\n",
    "165 ORE => 6 DCFZ\n",
    "44 XJWVT, 5 KHKGT, 1 QDVJ, 29 NZVS, 9 GPVTF, 48 HKGWZ => 1 FUEL\n",
    "12 HKGWZ, 1 GPVTF, 8 PSHF => 9 QDVJ\n",
    "179 ORE => 7 PSHF\n",
    "177 ORE => 5 HKGWZ\n",
    "7 DCFZ, 7 PSHF => 2 XJWVT\n",
    "165 ORE => 2 GPVTF\n",
    "3 DCFZ, 7 NZVS, 5 HKGWZ, 10 PSHF => 8 KHKGT\n",
    "\"\"\"\n",
    "assert part1(text) == 13312\n",
    "assert part2(text) == 82892753"
   ]
  },
  {
   "cell_type": "code",
   "execution_count": 8,
   "metadata": {},
   "outputs": [],
   "source": [
    "text = \"\"\"\n",
    "2 VPVL, 7 FWMGM, 2 CXFTF, 11 MNCFX => 1 STKFG\n",
    "17 NVRVD, 3 JNWZP => 8 VPVL\n",
    "53 STKFG, 6 MNCFX, 46 VJHF, 81 HVMC, 68 CXFTF, 25 GNMV => 1 FUEL\n",
    "22 VJHF, 37 MNCFX => 5 FWMGM\n",
    "139 ORE => 4 NVRVD\n",
    "144 ORE => 7 JNWZP\n",
    "5 MNCFX, 7 RFSQX, 2 FWMGM, 2 VPVL, 19 CXFTF => 3 HVMC\n",
    "5 VJHF, 7 MNCFX, 9 VPVL, 37 CXFTF => 6 GNMV\n",
    "145 ORE => 6 MNCFX\n",
    "1 NVRVD => 8 CXFTF\n",
    "1 VJHF, 6 MNCFX => 4 RFSQX\n",
    "176 ORE => 6 VJHF\n",
    "\"\"\"\n",
    "assert part1(text) == 180697\n",
    "assert part2(text) == 5586022"
   ]
  },
  {
   "cell_type": "code",
   "execution_count": 9,
   "metadata": {},
   "outputs": [],
   "source": [
    "text = \"\"\"\n",
    "171 ORE => 8 CNZTR\n",
    "7 ZLQW, 3 BMBT, 9 XCVML, 26 XMNCP, 1 WPTQ, 2 MZWV, 1 RJRHP => 4 PLWSL\n",
    "114 ORE => 4 BHXH\n",
    "14 VRPVC => 6 BMBT\n",
    "6 BHXH, 18 KTJDG, 12 WPTQ, 7 PLWSL, 31 FHTLT, 37 ZDVW => 1 FUEL\n",
    "6 WPTQ, 2 BMBT, 8 ZLQW, 18 KTJDG, 1 XMNCP, 6 MZWV, 1 RJRHP => 6 FHTLT\n",
    "15 XDBXC, 2 LTCX, 1 VRPVC => 6 ZLQW\n",
    "13 WPTQ, 10 LTCX, 3 RJRHP, 14 XMNCP, 2 MZWV, 1 ZLQW => 1 ZDVW\n",
    "5 BMBT => 4 WPTQ\n",
    "189 ORE => 9 KTJDG\n",
    "1 MZWV, 17 XDBXC, 3 XCVML => 2 XMNCP\n",
    "12 VRPVC, 27 CNZTR => 2 XDBXC\n",
    "15 KTJDG, 12 BHXH => 5 XCVML\n",
    "3 BHXH, 2 VRPVC => 7 MZWV\n",
    "121 ORE => 7 VRPVC\n",
    "7 XCVML => 6 RJRHP\n",
    "5 BHXH, 4 VRPVC => 5 LTCX\n",
    "\"\"\"\n",
    "assert part1(text) == 2210736\n",
    "assert part2(text) == 460664"
   ]
  }
 ],
 "metadata": {
  "kernelspec": {
   "display_name": "Python 3",
   "language": "python",
   "name": "python3"
  },
  "language_info": {
   "codemirror_mode": {
    "name": "ipython",
    "version": 3
   },
   "file_extension": ".py",
   "mimetype": "text/x-python",
   "name": "python",
   "nbconvert_exporter": "python",
   "pygments_lexer": "ipython3",
   "version": "3.6.9"
  }
 },
 "nbformat": 4,
 "nbformat_minor": 2
}
