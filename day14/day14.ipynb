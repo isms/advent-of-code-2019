{
 "cells": [
  {
   "cell_type": "code",
   "execution_count": 31,
   "metadata": {},
   "outputs": [],
   "source": [
    "import z3\n",
    "from pathlib import Path\n",
    "from datetime import datetime\n",
    "from collections import defaultdict\n",
    "\n",
    "def extract_pair(pair):\n",
    "    n, x = pair.strip().split()\n",
    "    return x, int(n)\n",
    "\n",
    "def parse(line):\n",
    "    ingredients, result = line.strip().split(\" => \")\n",
    "    ingredients = [extract_pair(pair) for pair in ingredients.split(\", \")]\n",
    "    return ingredients, [extract_pair(result)]\n",
    "\n",
    "def get_reactions(text):\n",
    "    reactions = []\n",
    "    for line in text.strip().splitlines():\n",
    "        ingredients, result = parse(line)\n",
    "        reaction = defaultdict(int)\n",
    "        for x, n in ingredients:\n",
    "            reaction[x] = -n\n",
    "        for x, n in result:\n",
    "            reaction[x] = n\n",
    "        reactions.append(reaction)\n",
    "    return reactions"
   ]
  },
  {
   "cell_type": "markdown",
   "metadata": {},
   "source": [
    "### Part 1"
   ]
  },
  {
   "cell_type": "code",
   "execution_count": 43,
   "metadata": {},
   "outputs": [],
   "source": [
    "def solve(text):\n",
    "    reactions = get_reactions(text)\n",
    "    products = {k for r in reactions for k in r.keys()}\n",
    "\n",
    "    s = z3.Solver()\n",
    "\n",
    "    n_reactions = [z3.Int(str(i)) for i in range(len(reactions))]\n",
    "    start_ore = z3.Int(\"ore\")\n",
    "    s.add(start_ore >= 0)\n",
    "    \n",
    "    # what we start with\n",
    "    initial = defaultdict(int, {\"ORE\": start_ore})\n",
    "\n",
    "    # all non-negative\n",
    "    for n_i in n_reactions:\n",
    "        s.add(n_i >= 0)\n",
    "\n",
    "    amounts = {}\n",
    "    for product in products:\n",
    "        amounts[product] = initial[product] + sum(reactions[i][product] * n_reactions[i] for i in range(len(reactions)))\n",
    "        s.add(amounts[product] >= 0)\n",
    "\n",
    "    s.add(amounts[\"FUEL\"] >= 1)\n",
    "\n",
    "    result, model, i = None, None, 1\n",
    "    while s.check() == z3.sat:\n",
    "        result, model = s.model()[start_ore], s.model()\n",
    "        s.add(start_ore < result)\n",
    "        print(i, datetime.now().isoformat(), result)\n",
    "        i += 1\n",
    "    return result, model, i"
   ]
  },
  {
   "cell_type": "code",
   "execution_count": 33,
   "metadata": {},
   "outputs": [
    {
     "name": "stdout",
     "output_type": "stream",
     "text": [
      "2 2019-12-14T19:01:13.093596 31\n"
     ]
    }
   ],
   "source": [
    "text = \"\"\"\n",
    "10 ORE => 10 A\n",
    "1 ORE => 1 B\n",
    "7 A, 1 B => 1 C\n",
    "7 A, 1 C => 1 D\n",
    "7 A, 1 D => 1 E\n",
    "7 A, 1 E => 1 FUEL\n",
    "\"\"\"\n",
    "result, model, i = solve(text)\n",
    "assert result == 31"
   ]
  },
  {
   "cell_type": "code",
   "execution_count": 27,
   "metadata": {},
   "outputs": [],
   "source": [
    "text = \"\"\"\n",
    "157 ORE => 5 NZVS\n",
    "165 ORE => 6 DCFZ\n",
    "44 XJWVT, 5 KHKGT, 1 QDVJ, 29 NZVS, 9 GPVTF, 48 HKGWZ => 1 FUEL\n",
    "12 HKGWZ, 1 GPVTF, 8 PSHF => 9 QDVJ\n",
    "179 ORE => 7 PSHF\n",
    "177 ORE => 5 HKGWZ\n",
    "7 DCFZ, 7 PSHF => 2 XJWVT\n",
    "165 ORE => 2 GPVTF\n",
    "3 DCFZ, 7 NZVS, 5 HKGWZ, 10 PSHF => 8 KHKGT\n",
    "\"\"\"\n",
    "result, model, i = solve(text)\n",
    "assert result == 13312"
   ]
  },
  {
   "cell_type": "code",
   "execution_count": 28,
   "metadata": {},
   "outputs": [],
   "source": [
    "text = \"\"\"\n",
    "2 VPVL, 7 FWMGM, 2 CXFTF, 11 MNCFX => 1 STKFG\n",
    "17 NVRVD, 3 JNWZP => 8 VPVL\n",
    "53 STKFG, 6 MNCFX, 46 VJHF, 81 HVMC, 68 CXFTF, 25 GNMV => 1 FUEL\n",
    "22 VJHF, 37 MNCFX => 5 FWMGM\n",
    "139 ORE => 4 NVRVD\n",
    "144 ORE => 7 JNWZP\n",
    "5 MNCFX, 7 RFSQX, 2 FWMGM, 2 VPVL, 19 CXFTF => 3 HVMC\n",
    "5 VJHF, 7 MNCFX, 9 VPVL, 37 CXFTF => 6 GNMV\n",
    "145 ORE => 6 MNCFX\n",
    "1 NVRVD => 8 CXFTF\n",
    "1 VJHF, 6 MNCFX => 4 RFSQX\n",
    "176 ORE => 6 VJHF\n",
    "\"\"\"\n",
    "result, model, i = solve(text)\n",
    "assert result == 180697"
   ]
  },
  {
   "cell_type": "code",
   "execution_count": 40,
   "metadata": {},
   "outputs": [
    {
     "name": "stdout",
     "output_type": "stream",
     "text": [
      "2 2019-12-14T21:12:36.470880 2210736\n"
     ]
    }
   ],
   "source": [
    "text = \"\"\"\n",
    "171 ORE => 8 CNZTR\n",
    "7 ZLQW, 3 BMBT, 9 XCVML, 26 XMNCP, 1 WPTQ, 2 MZWV, 1 RJRHP => 4 PLWSL\n",
    "114 ORE => 4 BHXH\n",
    "14 VRPVC => 6 BMBT\n",
    "6 BHXH, 18 KTJDG, 12 WPTQ, 7 PLWSL, 31 FHTLT, 37 ZDVW => 1 FUEL\n",
    "6 WPTQ, 2 BMBT, 8 ZLQW, 18 KTJDG, 1 XMNCP, 6 MZWV, 1 RJRHP => 6 FHTLT\n",
    "15 XDBXC, 2 LTCX, 1 VRPVC => 6 ZLQW\n",
    "13 WPTQ, 10 LTCX, 3 RJRHP, 14 XMNCP, 2 MZWV, 1 ZLQW => 1 ZDVW\n",
    "5 BMBT => 4 WPTQ\n",
    "189 ORE => 9 KTJDG\n",
    "1 MZWV, 17 XDBXC, 3 XCVML => 2 XMNCP\n",
    "12 VRPVC, 27 CNZTR => 2 XDBXC\n",
    "15 KTJDG, 12 BHXH => 5 XCVML\n",
    "3 BHXH, 2 VRPVC => 7 MZWV\n",
    "121 ORE => 7 VRPVC\n",
    "7 XCVML => 6 RJRHP\n",
    "5 BHXH, 4 VRPVC => 5 LTCX\n",
    "\"\"\"\n",
    "result, model, i = solve(text)\n",
    "assert result == 2210736"
   ]
  },
  {
   "cell_type": "code",
   "execution_count": 42,
   "metadata": {},
   "outputs": [
    {
     "name": "stdout",
     "output_type": "stream",
     "text": [
      "2 2019-12-14T21:12:41.634085 1802672476\n",
      "3 2019-12-14T21:12:41.971065 613303\n",
      "4 2019-12-14T21:12:42.007518 613084\n",
      "5 2019-12-14T21:12:42.126171 612880\n",
      "CPU times: user 933 ms, sys: 12 ms, total: 945 ms\n",
      "Wall time: 914 ms\n"
     ]
    },
    {
     "data": {
      "text/plain": [
       "(612880, [29 = 1,\n",
       "  37 = 73,\n",
       "  3 = 10,\n",
       "  32 = 123,\n",
       "  23 = 11,\n",
       "  39 = 1,\n",
       "  43 = 716,\n",
       "  0 = 184,\n",
       "  12 = 439,\n",
       "  38 = 33,\n",
       "  11 = 6,\n",
       "  31 = 1,\n",
       "  21 = 94,\n",
       "  40 = 12,\n",
       "  2 = 24,\n",
       "  47 = 1,\n",
       "  33 = 97,\n",
       "  10 = 26,\n",
       "  52 = 10,\n",
       "  4 = 5,\n",
       "  17 = 46,\n",
       "  24 = 14,\n",
       "  35 = 10,\n",
       "  ore = 612880,\n",
       "  30 = 11,\n",
       "  6 = 19,\n",
       "  19 = 12,\n",
       "  14 = 1572,\n",
       "  25 = 1,\n",
       "  27 = 1,\n",
       "  7 = 4,\n",
       "  41 = 177,\n",
       "  55 = 151,\n",
       "  49 = 5,\n",
       "  1 = 491,\n",
       "  28 = 14,\n",
       "  46 = 430,\n",
       "  15 = 69,\n",
       "  8 = 1,\n",
       "  34 = 34,\n",
       "  53 = 979,\n",
       "  26 = 2,\n",
       "  44 = 9,\n",
       "  16 = 385,\n",
       "  18 = 37,\n",
       "  20 = 7,\n",
       "  36 = 97,\n",
       "  54 = 1,\n",
       "  9 = 51,\n",
       "  45 = 1,\n",
       "  51 = 77,\n",
       "  5 = 33,\n",
       "  50 = 339,\n",
       "  42 = 4124,\n",
       "  22 = 302,\n",
       "  48 = 1,\n",
       "  13 = 1129], 5)"
      ]
     },
     "execution_count": 42,
     "metadata": {},
     "output_type": "execute_result"
    }
   ],
   "source": [
    "%%time\n",
    "result, model, i = solve(Path(\"input.txt\").read_text())\n",
    "result, model, i"
   ]
  },
  {
   "cell_type": "code",
   "execution_count": null,
   "metadata": {},
   "outputs": [],
   "source": []
  }
 ],
 "metadata": {
  "kernelspec": {
   "display_name": "Python 3",
   "language": "python",
   "name": "python3"
  },
  "language_info": {
   "codemirror_mode": {
    "name": "ipython",
    "version": 3
   },
   "file_extension": ".py",
   "mimetype": "text/x-python",
   "name": "python",
   "nbconvert_exporter": "python",
   "pygments_lexer": "ipython3",
   "version": "3.6.9"
  }
 },
 "nbformat": 4,
 "nbformat_minor": 2
}
