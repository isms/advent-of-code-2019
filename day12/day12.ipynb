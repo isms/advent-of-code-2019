{
 "cells": [
  {
   "cell_type": "code",
   "execution_count": 1,
   "metadata": {},
   "outputs": [],
   "source": [
    "import pandas as pd\n",
    "import numpy as np\n",
    "import itertools\n",
    "from tqdm import tqdm\n",
    "from pathlib import Path"
   ]
  },
  {
   "cell_type": "code",
   "execution_count": 2,
   "metadata": {},
   "outputs": [],
   "source": [
    "def parse(text):\n",
    "    df = pd.DataFrame({\"raw\": text.strip().splitlines()})\n",
    "    pos = df.raw.str.extract(\"(-?\\d+).*?(-?\\d+).*?(-?\\d+)\", expand=True)\n",
    "    pos = pos.astype(int).values\n",
    "    vel = pos.copy() * 0\n",
    "    return pos, vel\n",
    "\n",
    "def step_gravity(pos, vel):\n",
    "    next_vel = vel.copy()\n",
    "    pairs = itertools.combinations(range(pos.shape[0]), 2)\n",
    "    for planet1, planet2 in pairs:\n",
    "        diff = np.clip(pos[planet2] - pos[planet1], a_min=-1, a_max=1)\n",
    "        next_vel[planet1] += diff\n",
    "        next_vel[planet2] -= diff\n",
    "    return next_vel\n",
    "\n",
    "def step_position(pos, vel):\n",
    "    return pos + vel\n",
    "\n",
    "def step(pos, vel):\n",
    "    vel1 = step_gravity(pos, vel)\n",
    "    pos1 = step_position(pos, vel1)\n",
    "    return pos1, vel1\n",
    "\n",
    "def at(pos, vel, n):\n",
    "    for _ in range(n):\n",
    "        pos, vel = step(pos, vel)\n",
    "    return pos, vel\n",
    "\n",
    "def energy(pos, vel):\n",
    "    return np.dot(np.abs(pos).sum(axis=1), np.abs(vel).sum(axis=1))"
   ]
  },
  {
   "cell_type": "markdown",
   "metadata": {},
   "source": [
    "### Part 1"
   ]
  },
  {
   "cell_type": "code",
   "execution_count": 3,
   "metadata": {},
   "outputs": [],
   "source": [
    "pos, vel = parse(\"\"\"<x=-1, y=0, z=2>\n",
    "<x=2, y=-10, z=-7>\n",
    "<x=4, y=-8, z=8>\n",
    "<x=3, y=5, z=-1>\"\"\")\n",
    "assert energy(*at(pos, vel, 10)) == 179\n",
    "\n",
    "\n",
    "pos, vel = parse(\"\"\"<x=-8, y=-10, z=0>\n",
    "<x=5, y=5, z=10>\n",
    "<x=2, y=-7, z=3>\n",
    "<x=9, y=-8, z=-3>\"\"\")\n",
    "assert energy(*at(pos, vel, 100)) == 1940"
   ]
  },
  {
   "cell_type": "code",
   "execution_count": 4,
   "metadata": {},
   "outputs": [
    {
     "name": "stdout",
     "output_type": "stream",
     "text": [
      "CPU times: user 32.2 ms, sys: 3.9 ms, total: 36.1 ms\n",
      "Wall time: 32.1 ms\n"
     ]
    },
    {
     "data": {
      "text/plain": [
       "6220"
      ]
     },
     "execution_count": 4,
     "metadata": {},
     "output_type": "execute_result"
    }
   ],
   "source": [
    "%%time\n",
    "text = Path(\"input.txt\").read_text()\n",
    "pos0, vel0 = parse(text)\n",
    "energy(*at(pos0, vel0, 1000))"
   ]
  },
  {
   "cell_type": "markdown",
   "metadata": {},
   "source": [
    "### Part 2"
   ]
  },
  {
   "cell_type": "code",
   "execution_count": 5,
   "metadata": {},
   "outputs": [
    {
     "name": "stdout",
     "output_type": "stream",
     "text": [
      "setting axis x to 113028\n",
      "setting axis y to 167624\n",
      "setting axis z to 231614\n",
      "CPU times: user 12.5 s, sys: 537 ms, total: 13 s\n",
      "Wall time: 12.2 s\n"
     ]
    }
   ],
   "source": [
    "%%time\n",
    "pos, vel = pos0.copy(), vel0.copy()\n",
    "cycle_xyz = np.array([0, 0, 0])\n",
    "i = 0\n",
    "while True:\n",
    "    pos, vel = step(pos, vel)\n",
    "    i += 1\n",
    "    needed = np.argwhere(cycle_xyz == 0).ravel()\n",
    "    if needed.size == 0:\n",
    "        break\n",
    "    for axis in needed:\n",
    "        same_pos = (pos[:, axis] == pos0[:, axis]).all()\n",
    "        same_vel = (vel[:, axis] == vel0[:, axis]).all()\n",
    "        if same_pos and same_vel:\n",
    "            print(f\"setting axis {'xyz'[axis]} to {i}\")\n",
    "            cycle_xyz[axis] = i"
   ]
  },
  {
   "cell_type": "code",
   "execution_count": 6,
   "metadata": {},
   "outputs": [
    {
     "data": {
      "text/plain": [
       "548525804273976"
      ]
     },
     "execution_count": 6,
     "metadata": {},
     "output_type": "execute_result"
    }
   ],
   "source": [
    "np.lcm.reduce(cycle_xyz)"
   ]
  }
 ],
 "metadata": {
  "kernelspec": {
   "display_name": "Python 3",
   "language": "python",
   "name": "python3"
  },
  "language_info": {
   "codemirror_mode": {
    "name": "ipython",
    "version": 3
   },
   "file_extension": ".py",
   "mimetype": "text/x-python",
   "name": "python",
   "nbconvert_exporter": "python",
   "pygments_lexer": "ipython3",
   "version": "3.6.9"
  }
 },
 "nbformat": 4,
 "nbformat_minor": 2
}
