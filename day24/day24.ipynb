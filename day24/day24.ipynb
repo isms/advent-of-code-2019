{
 "cells": [
  {
   "cell_type": "code",
   "execution_count": 1,
   "metadata": {},
   "outputs": [],
   "source": [
    "import numpy as np\n",
    "from tqdm import tqdm\n",
    "from pathlib import Path\n",
    "from scipy import ndimage"
   ]
  },
  {
   "cell_type": "code",
   "execution_count": 2,
   "metadata": {},
   "outputs": [],
   "source": [
    "def array_from_text(text):\n",
    "    arr = np.array([\n",
    "        list(line.strip()) for line in text.strip().splitlines()\n",
    "    ])\n",
    "    return (arr == \"#\").astype(np.uint8)\n",
    "\n",
    "def text_from_arr(arr):\n",
    "    return \"\\n\".join(\n",
    "        \"\".join(\n",
    "            \"#\" if x else \".\" for x in line\n",
    "        ) for line in arr\n",
    "    )\n",
    "\n",
    "\n",
    "text = \"\"\"\n",
    "....#\n",
    "#..#.\n",
    "#..##\n",
    "..#..\n",
    "#....\n",
    "\"\"\".strip()\n",
    "arr = array_from_text(text)\n",
    "assert text_from_arr(arr) == text"
   ]
  },
  {
   "cell_type": "code",
   "execution_count": 3,
   "metadata": {},
   "outputs": [],
   "source": [
    "def sum_adjacent(arr):\n",
    "    k = np.array([[0, 1, 0], [1, 0, 1], [0, 1, 0]])\n",
    "    return ndimage.convolve(arr, k, mode='constant', cval=0)\n",
    "\n",
    "def step(arr):\n",
    "    adj = sum_adjacent(arr)\n",
    "    bug = arr.astype(np.bool)\n",
    "    bug_survives = bug & (adj == 1)\n",
    "    infested = ~bug & ((adj == 1) | (adj == 2))\n",
    "    return (bug_survives | infested).astype(np.uint8)\n",
    "\n",
    "def biodiversity(arr):\n",
    "    return np.sum(arr.ravel() << np.arange(arr.size))\n",
    "\n",
    "def simulate(arr):\n",
    "    while True:\n",
    "        yield arr\n",
    "        arr = step(arr)"
   ]
  },
  {
   "cell_type": "markdown",
   "metadata": {},
   "source": [
    "### Part 1"
   ]
  },
  {
   "cell_type": "code",
   "execution_count": 4,
   "metadata": {},
   "outputs": [],
   "source": [
    "def run_until_dupe(arr):\n",
    "    seen = set()\n",
    "    for i, curr in tqdm(enumerate(simulate(arr))):\n",
    "        x = biodiversity(curr)\n",
    "        if x in seen:\n",
    "            return curr, i, x\n",
    "        seen.add(x)"
   ]
  },
  {
   "cell_type": "code",
   "execution_count": 5,
   "metadata": {},
   "outputs": [
    {
     "name": "stderr",
     "output_type": "stream",
     "text": [
      "0it [00:00, ?it/s]\n"
     ]
    }
   ],
   "source": [
    "arr = array_from_text(text)\n",
    "_, _, x = run_until_dupe(arr)\n",
    "assert x == 2129920"
   ]
  },
  {
   "cell_type": "code",
   "execution_count": 6,
   "metadata": {},
   "outputs": [
    {
     "name": "stderr",
     "output_type": "stream",
     "text": [
      "0it [00:00, ?it/s]\n"
     ]
    },
    {
     "data": {
      "text/plain": [
       "(array([[0, 0, 1, 1, 1],\n",
       "        [0, 0, 1, 1, 0],\n",
       "        [0, 0, 1, 1, 0],\n",
       "        [0, 0, 1, 1, 0],\n",
       "        [1, 1, 0, 1, 1]], dtype=uint8), 19, 28717468)"
      ]
     },
     "execution_count": 6,
     "metadata": {},
     "output_type": "execute_result"
    }
   ],
   "source": [
    "text = Path(\"input.txt\").read_text()\n",
    "arr = array_from_text(text)\n",
    "run_until_dupe(arr)"
   ]
  },
  {
   "cell_type": "code",
   "execution_count": null,
   "metadata": {},
   "outputs": [],
   "source": []
  }
 ],
 "metadata": {
  "kernelspec": {
   "display_name": "Python 3",
   "language": "python",
   "name": "python3"
  },
  "language_info": {
   "codemirror_mode": {
    "name": "ipython",
    "version": 3
   },
   "file_extension": ".py",
   "mimetype": "text/x-python",
   "name": "python",
   "nbconvert_exporter": "python",
   "pygments_lexer": "ipython3",
   "version": "3.6.7"
  }
 },
 "nbformat": 4,
 "nbformat_minor": 4
}
