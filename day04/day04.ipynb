{
 "cells": [
  {
   "cell_type": "markdown",
   "metadata": {},
   "source": [
    "You arrive at the Venus fuel depot only to discover it's protected by a password. The Elves had written the password on a sticky note, but someone threw it out.\n",
    "\n",
    "However, they do remember a few key facts about the password:\n",
    "\n",
    "- It is a six-digit number.\n",
    "- The value is within the range given in your puzzle input.\n",
    "- Two adjacent digits are the same (like 22 in 122345).\n",
    "- Going from left to right, the digits never decrease; they only ever increase or stay the same (like 111123 or 135679).\n",
    "\n",
    "Other than the range rule, the following are true:\n",
    "\n",
    "111111 meets these criteria (double 11, never decreases).\n",
    "223450 does not meet these criteria (decreasing pair of digits 50).\n",
    "123789 does not meet these criteria (no double).\n",
    "How many different passwords within the range given in your puzzle input meet these criteria?\n",
    "\n",
    "#### Your puzzle input is `307237-769058`."
   ]
  },
  {
   "cell_type": "code",
   "execution_count": 1,
   "metadata": {},
   "outputs": [],
   "source": [
    "INPUT_LOW, INPUT_HIGH = 307237, 769058"
   ]
  },
  {
   "cell_type": "markdown",
   "metadata": {},
   "source": [
    "### Part 1"
   ]
  },
  {
   "cell_type": "code",
   "execution_count": 2,
   "metadata": {},
   "outputs": [
    {
     "name": "stdout",
     "output_type": "stream",
     "text": [
      "100 -> 556688\n",
      "200 -> 466789\n",
      "300 -> 333488\n",
      "400 -> 334456\n",
      "500 -> 367779\n",
      "600 -> 344788\n",
      "700 -> 455568\n",
      "800 -> 447888\n",
      "CPU times: user 10.8 s, sys: 12.9 ms, total: 10.8 s\n",
      "Wall time: 10.8 s\n"
     ]
    }
   ],
   "source": [
    "%%time\n",
    "import z3\n",
    "\n",
    "s = z3.Solver()\n",
    "\n",
    "# six digit number\n",
    "d = [z3.Int(f\"{i}\") for i in range(6)]\n",
    "for digit in d:\n",
    "    s.add(digit >= 0, digit <= 9)\n",
    "\n",
    "# in range\n",
    "val = d[0] * 10**5 + d[1] * 10**4 + d[2] * 10**3 + d[3] * 10**2 + d[4] * 10**1 + d[5] * 10**0\n",
    "s.add(val >= INPUT_LOW)\n",
    "s.add(val <= INPUT_HIGH)\n",
    "\n",
    "# two adjacent are the same\n",
    "adj = [d[i] == d[i+1] for i in range(5)]\n",
    "s.add(z3.Or(adj))\n",
    "\n",
    "# never decrease\n",
    "adj = [d[i+1] >= d[i] for i in range(5)]\n",
    "s.add(z3.And(adj))\n",
    "\n",
    "solutions = 0\n",
    "while True:\n",
    "    if s.check() != z3.sat:\n",
    "        break\n",
    "    else:\n",
    "        m = s.model()\n",
    "        answer = int(\"\".join([str(m[digit]) for digit in d]))\n",
    "        solutions += 1\n",
    "        s.add(val != answer)\n",
    "        if solutions % 100 == 0:\n",
    "            print(solutions, \"->\", answer)"
   ]
  },
  {
   "cell_type": "code",
   "execution_count": 3,
   "metadata": {},
   "outputs": [
    {
     "data": {
      "text/plain": [
       "889"
      ]
     },
     "execution_count": 3,
     "metadata": {},
     "output_type": "execute_result"
    }
   ],
   "source": [
    "solutions"
   ]
  },
  {
   "cell_type": "markdown",
   "metadata": {},
   "source": [
    "### Part 2"
   ]
  },
  {
   "cell_type": "code",
   "execution_count": 5,
   "metadata": {},
   "outputs": [
    {
     "name": "stdout",
     "output_type": "stream",
     "text": [
      "100 -> 355779\n",
      "200 -> 334469\n",
      "300 -> 455588\n",
      "400 -> 555799\n",
      "500 -> 577788\n",
      "CPU times: user 7.7 s, sys: 0 ns, total: 7.7 s\n",
      "Wall time: 7.69 s\n"
     ]
    }
   ],
   "source": [
    "%%time\n",
    "import z3\n",
    "\n",
    "s = z3.Solver()\n",
    "\n",
    "# six digit number\n",
    "d = [z3.Int(f\"{i}\") for i in range(6)]\n",
    "for digit in d:\n",
    "    s.add(digit >= 0, digit <= 9)\n",
    "\n",
    "# in range\n",
    "val = d[0] * 10**5 + d[1] * 10**4 + d[2] * 10**3 + d[3] * 10**2 + d[4] * 10**1 + d[5] * 10**0\n",
    "s.add(val >= INPUT_LOW)\n",
    "s.add(val <= INPUT_HIGH)\n",
    "\n",
    "# at least one where two adjacent are the same but not more than two\n",
    "two_adjacent_possibilities = []\n",
    "for i in range(5):\n",
    "    conds = []\n",
    "    # digit to the left not the same unless at leftmost digits\n",
    "    if i > 0:\n",
    "        conds.append(d[i-1] < d[i])\n",
    "    # middle two are the same\n",
    "    conds.append(d[i] == d[i+1])\n",
    "    # digit to the right not the same unless at rightmost digits\n",
    "    if i < (len(d) - 2):\n",
    "        conds.append(d[i+1] < d[i+2])\n",
    "    one_way_to_have_only_two_adjacent = z3.And(conds)\n",
    "    two_adjacent_possibilities.append(one_way_to_have_only_two_adjacent)\n",
    "all_ways_to_have_only_two_adjacent = z3.Or(two_adjacent_possibilities)\n",
    "s.add(all_ways_to_have_only_two_adjacent)\n",
    "\n",
    "# never decrease\n",
    "adj = [d[i+1] >= d[i] for i in range(5)]\n",
    "s.add(z3.And(adj))\n",
    "\n",
    "solutions = 0\n",
    "while True:\n",
    "    if s.check() != z3.sat:\n",
    "        break\n",
    "    else:\n",
    "        m = s.model()\n",
    "        answer = int(\"\".join([str(m[digit]) for digit in d]))\n",
    "        solutions += 1\n",
    "        s.add(val != answer)\n",
    "        if solutions % 100 == 0:\n",
    "            print(solutions, \"->\", answer)"
   ]
  },
  {
   "cell_type": "code",
   "execution_count": 6,
   "metadata": {},
   "outputs": [
    {
     "data": {
      "text/plain": [
       "589"
      ]
     },
     "execution_count": 6,
     "metadata": {},
     "output_type": "execute_result"
    }
   ],
   "source": [
    "solutions"
   ]
  }
 ],
 "metadata": {
  "kernelspec": {
   "display_name": "Python 3",
   "language": "python",
   "name": "python3"
  },
  "language_info": {
   "codemirror_mode": {
    "name": "ipython",
    "version": 3
   },
   "file_extension": ".py",
   "mimetype": "text/x-python",
   "name": "python",
   "nbconvert_exporter": "python",
   "pygments_lexer": "ipython3",
   "version": "3.6.9"
  }
 },
 "nbformat": 4,
 "nbformat_minor": 2
}
